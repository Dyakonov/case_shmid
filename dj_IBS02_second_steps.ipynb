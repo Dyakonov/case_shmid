{
 "cells": [
  {
   "cell_type": "markdown",
   "metadata": {},
   "source": [
    "# ИБС кардиограммы\n",
    "\n",
    "Исследование задачи ИБС (Дьяконов А.Г., 2016)\n",
    "\n",
    "Все признаки предварительно получаются в Матлабе\n",
    "\n",
    "**второй ноутбук: правильное тестирование и настройка**"
   ]
  },
  {
   "cell_type": "code",
   "execution_count": 83,
   "metadata": {
    "collapsed": false
   },
   "outputs": [
    {
     "name": "stdout",
     "output_type": "stream",
     "text": [
      "Populating the interactive namespace from numpy and matplotlib\n"
     ]
    },
    {
     "name": "stderr",
     "output_type": "stream",
     "text": [
      "WARNING: pylab import has clobbered these variables: ['shuffle']\n",
      "`%matplotlib` prevents importing * from pylab and numpy\n"
     ]
    }
   ],
   "source": [
    "# подгружаем все нужные пакеты\n",
    "import pandas as pd\n",
    "import numpy as np\n",
    "\n",
    "\n",
    "# для встроенных картинок\n",
    "%pylab inline\n",
    "# чуть покрасивше картинки:\n",
    "pd.set_option('display.mpl_style', 'default')\n",
    "figsize(12, 9)\n",
    "\n",
    "import warnings\n",
    "warnings.filterwarnings(\"ignore\")\n",
    "\n",
    "#plt.rcParams['figure.figsize'] = 10, 7.5\n",
    "#plt.rcParams['axes.grid'] = True\n",
    "pd.set_option('display.max_columns', None)\n",
    "import matplotlib.pyplot as plt\n",
    "\n",
    "import matplotlib as mpl\n",
    "mpl.rcParams['font.family'] = 'Ubuntu'\n",
    "\n",
    "plt.rc('text', usetex=False)\n",
    "plt.rc('font', family='serif')\n",
    "plt.rc('font', weight='bold')\n",
    "plt.rc('xtick', labelsize=14) \n",
    "plt.rc('ytick', labelsize=14)"
   ]
  },
  {
   "cell_type": "markdown",
   "metadata": {},
   "source": [
    "### Загрузка данных\n",
    "\n",
    "Признаковые матрицы посчитаны в Матлабе"
   ]
  },
  {
   "cell_type": "code",
   "execution_count": 2,
   "metadata": {
    "collapsed": false
   },
   "outputs": [
    {
     "name": "stdout",
     "output_type": "stream",
     "text": [
      "(3029, 3) (3029, 47) (3029, 235) (3029, 40)\n"
     ]
    }
   ],
   "source": [
    "yy = pd.read_csv('d:\\\\Competitions\\\\Shmid\\\\yy.txt', header=None)\n",
    "f_fft = pd.read_csv('d:\\\\Competitions\\\\Shmid\\\\F_fft.txt', header=None)\n",
    "f_fft_smooth = pd.read_csv('d:\\\\Competitions\\\\Shmid\\\\F_fft_smooth.txt', header=None)\n",
    "f_poly = pd.read_csv('d:\\\\Competitions\\\\Shmid\\\\F_poly.txt', header=None)\n",
    "\n",
    "print (yy.shape, f_fft.shape, f_fft_smooth.shape, f_poly.shape)"
   ]
  },
  {
   "cell_type": "code",
   "execution_count": 4,
   "metadata": {
    "collapsed": false
   },
   "outputs": [
    {
     "data": {
      "text/html": [
       "<div>\n",
       "<table border=\"1\" class=\"dataframe\">\n",
       "  <thead>\n",
       "    <tr style=\"text-align: right;\">\n",
       "      <th></th>\n",
       "      <th>y</th>\n",
       "      <th>people</th>\n",
       "      <th>id</th>\n",
       "    </tr>\n",
       "  </thead>\n",
       "  <tbody>\n",
       "    <tr>\n",
       "      <th>0</th>\n",
       "      <td>1</td>\n",
       "      <td>1403</td>\n",
       "      <td>16588</td>\n",
       "    </tr>\n",
       "    <tr>\n",
       "      <th>1</th>\n",
       "      <td>1</td>\n",
       "      <td>1403</td>\n",
       "      <td>16589</td>\n",
       "    </tr>\n",
       "    <tr>\n",
       "      <th>2</th>\n",
       "      <td>1</td>\n",
       "      <td>1961</td>\n",
       "      <td>19666</td>\n",
       "    </tr>\n",
       "  </tbody>\n",
       "</table>\n",
       "</div>"
      ],
      "text/plain": [
       "   y  people     id\n",
       "0  1    1403  16588\n",
       "1  1    1403  16589\n",
       "2  1    1961  19666"
      ]
     },
     "execution_count": 4,
     "metadata": {},
     "output_type": "execute_result"
    }
   ],
   "source": [
    "yy.columns = ['y', 'people', 'id']\n",
    "yy[:3]"
   ]
  },
  {
   "cell_type": "code",
   "execution_count": 10,
   "metadata": {
    "collapsed": false
   },
   "outputs": [
    {
     "data": {
      "text/plain": [
       "array([1, 1, 1, 1, 1, 1, 1, 1, 1, 1], dtype=int64)"
      ]
     },
     "execution_count": 10,
     "metadata": {},
     "output_type": "execute_result"
    }
   ],
   "source": [
    "y = yy.y.values # целевой признак\n",
    "y[:10]"
   ]
  },
  {
   "cell_type": "code",
   "execution_count": 11,
   "metadata": {
    "collapsed": false
   },
   "outputs": [
    {
     "data": {
      "text/plain": [
       "array([1403, 1403, 1961, 1961, 1961, 1961, 1961, 1961, 1961, 1961], dtype=int64)"
      ]
     },
     "execution_count": 11,
     "metadata": {},
     "output_type": "execute_result"
    }
   ],
   "source": [
    "people = yy.people.values # метки людей\n",
    "people[:10]"
   ]
  },
  {
   "cell_type": "code",
   "execution_count": 69,
   "metadata": {
    "collapsed": false
   },
   "outputs": [
    {
     "data": {
      "text/plain": [
       "(3029, 322)"
      ]
     },
     "execution_count": 69,
     "metadata": {},
     "output_type": "execute_result"
    }
   ],
   "source": [
    "# все-все признаки\n",
    "f_all = pd.concat([f_fft, f_fft_smooth, f_poly], axis=1)\n",
    "f_all.shape"
   ]
  },
  {
   "cell_type": "markdown",
   "metadata": {},
   "source": [
    "### Запуск алгоритмов\n",
    "\n",
    "* 20 фолдов (пациент целиком попадает в фолд)\n",
    "* Используем ансамбль деревьев, но при построении каждого дерева от каждого пациента берём не более 10 сигналов"
   ]
  },
  {
   "cell_type": "code",
   "execution_count": 86,
   "metadata": {
    "collapsed": false
   },
   "outputs": [],
   "source": [
    "# побольше фолдов\n",
    "from sklearn.cross_validation import LabelKFold\n",
    "# cv2 = LabelKFold(labels, n_folds=len(set(labels)))\n",
    "cv = LabelKFold(people, n_folds=20)"
   ]
  },
  {
   "cell_type": "code",
   "execution_count": 87,
   "metadata": {
    "collapsed": true
   },
   "outputs": [],
   "source": [
    "from random import shuffle\n",
    "# выбрать индексы так,\n",
    "# что у группы помеченной одной меткой label выбирается не более 10\n",
    "def subsample(labels, k_cut=10):\n",
    "    tmp = pd.DataFrame({'labels': labels})\n",
    "    g = tmp.groupby('labels').groups\n",
    "    inds = []\n",
    "    for i in g.values():\n",
    "        shuffle(i)\n",
    "        if len(i)>k_cut:\n",
    "            inds.extend(i[:k_cut])\n",
    "        else:\n",
    "            inds.extend(i)\n",
    "    return (inds)"
   ]
  },
  {
   "cell_type": "code",
   "execution_count": 60,
   "metadata": {
    "collapsed": false
   },
   "outputs": [
    {
     "data": {
      "text/plain": [
       "[2, 0, 4, 3, 7, 8, 13, 10]"
      ]
     },
     "execution_count": 60,
     "metadata": {},
     "output_type": "execute_result"
    }
   ],
   "source": [
    "subsample([1,1,1,2,2,2,2,3,4,5,5,5,5,5], 2)"
   ]
  },
  {
   "cell_type": "code",
   "execution_count": 88,
   "metadata": {
    "collapsed": false
   },
   "outputs": [],
   "source": [
    "from sklearn.ensemble import RandomForestRegressor\n",
    "\n",
    "# строить алгоритмы по подвыборкам\n",
    "def run_myalgo(train, y, labels, test):\n",
    "    clf = RandomForestRegressor(n_estimators=1, n_jobs=-1, random_state=1)\n",
    "    n_iter = 30 # число деревьев (а там 1)\n",
    "    a = np.zeros(test.shape[0])\n",
    "    for i in range(n_iter):\n",
    "        inds = subsample(labels)\n",
    "        clf.fit(train[inds,:], y[inds])\n",
    "        a += clf.predict(test)\n",
    "    a /= n_iter\n",
    "    return (a)"
   ]
  },
  {
   "cell_type": "code",
   "execution_count": 89,
   "metadata": {
    "collapsed": false
   },
   "outputs": [
    {
     "name": "stdout",
     "output_type": "stream",
     "text": [
      "26.4535129070282\n",
      "54.38611078262329\n",
      "82.86573958396912\n",
      "112.35542631149292\n",
      "142.9631769657135\n",
      "175.56604170799255\n",
      "206.49181056022644\n",
      "237.32757425308228\n",
      "268.56836128234863\n",
      "299.1041076183319\n",
      "328.1197671890259\n",
      "360.42061471939087\n",
      "390.8353543281555\n",
      "422.13714480400085\n",
      "453.6679482460022\n",
      "483.4826536178589\n",
      "515.1984674930573\n",
      "545.6992123126984\n",
      "576.803991317749\n",
      "606.7037014961243\n"
     ]
    }
   ],
   "source": [
    "from time import time\n",
    "\n",
    "# на всех признаковых пространствах\n",
    "# прогнать мой алгоритм\n",
    "\n",
    "a = np.zeros(y.shape)\n",
    "a1 = np.zeros(y.shape)\n",
    "a2 = np.zeros(y.shape)\n",
    "a3 = np.zeros(y.shape)\n",
    "\n",
    "tm = time()\n",
    "for itrain, itest in cv:\n",
    "    a[itest] = run_myalgo(f_all.values[itrain,:], y[itrain], people[itrain], f_all.values[itest,:])\n",
    "    a1[itest] = run_myalgo(f_fft.values[itrain,:], y[itrain], people[itrain], f_fft.values[itest,:])\n",
    "    a2[itest] = run_myalgo(f_fft_smooth.values[itrain,:], y[itrain], people[itrain], f_fft_smooth.values[itest,:])\n",
    "    a3[itest] = run_myalgo(f_poly.values[itrain,:], y[itrain], people[itrain], f_poly.values[itest,:])\n",
    "    print (time() - tm)"
   ]
  },
  {
   "cell_type": "code",
   "execution_count": 75,
   "metadata": {
    "collapsed": false
   },
   "outputs": [
    {
     "data": {
      "text/plain": [
       "(0.6, 0.85)"
      ]
     },
     "execution_count": 75,
     "metadata": {},
     "output_type": "execute_result"
    },
    {
     "data": {
      "image/png": "[encoded data removed]",
      "text/plain": [
       "<matplotlib.figure.Figure at 0x9ee5dd8>"
      ]
     },
     "metadata": {},
     "output_type": "display_data"
    }
   ],
   "source": [
    "# это если брать по 10 в обучение...\n",
    "\n",
    "figsize(12, 6)\n",
    "lsp = np.linspace(0, 1, 1000)\n",
    "plt.plot(lsp, [np.mean(np.abs((a>l) == y)) for l in lsp], lw=2)\n",
    "plt.plot(lsp, [np.mean(np.abs((a1>l) == y)) for l in lsp], lw=2)\n",
    "plt.plot(lsp, [np.mean(np.abs((a2>l) == y)) for l in lsp], lw=2)\n",
    "plt.plot(lsp, [np.mean(np.abs((a3>l) == y)) for l in lsp], lw=2)\n",
    "plt.plot(lsp, np.mean(np.abs(0 == y)) + lsp*0, 'k')\n",
    "plt.xlabel('threshold')\n",
    "plt.ylabel('quality')\n",
    "plt.legend(['my algo all', 'my algo fft', 'my algo fft smooth', 'my algo poly', 'benchmark'], 0)\n",
    "plt.xlim([0.5, 1])\n",
    "plt.ylim([0.6, 0.85])"
   ]
  },
  {
   "cell_type": "code",
   "execution_count": 91,
   "metadata": {
    "collapsed": false
   },
   "outputs": [
    {
     "data": {
      "text/plain": [
       "(0.6, 0.85)"
      ]
     },
     "execution_count": 91,
     "metadata": {},
     "output_type": "execute_result"
    },
    {
     "data": {
      "image/png": "[encoded data removed]",
      "text/plain": [
       "<matplotlib.figure.Figure at 0xa235208>"
      ]
     },
     "metadata": {},
     "output_type": "display_data"
    }
   ],
   "source": [
    "# это если брать всё в обучение...\n",
    "\n",
    "figsize(12, 6)\n",
    "lsp = np.linspace(0, 1, 1000)\n",
    "plt.plot(lsp, [np.mean(np.abs((a>l) == y)) for l in lsp], lw=2)\n",
    "plt.plot(lsp, [np.mean(np.abs((a1>l) == y)) for l in lsp], lw=2)\n",
    "plt.plot(lsp, [np.mean(np.abs((a2>l) == y)) for l in lsp], lw=2)\n",
    "plt.plot(lsp, [np.mean(np.abs((a3>l) == y)) for l in lsp], lw=2)\n",
    "plt.plot(lsp, np.mean(np.abs(0 == y)) + lsp*0, 'k')\n",
    "plt.xlabel('threshold')\n",
    "plt.ylabel('quality')\n",
    "plt.legend(['my algo all', 'my algo fft', 'my algo fft smooth', 'my algo poly', 'benchmark'], 0)\n",
    "plt.xlim([0.5, 1])\n",
    "plt.ylim([0.6, 0.85])"
   ]
  },
  {
   "cell_type": "code",
   "execution_count": null,
   "metadata": {
    "collapsed": true
   },
   "outputs": [],
   "source": [
    "np.mean(np.abs((a2>0.89) == y))"
   ]
  },
  {
   "cell_type": "code",
   "execution_count": 92,
   "metadata": {
    "collapsed": false
   },
   "outputs": [
    {
     "name": "stdout",
     "output_type": "stream",
     "text": [
      "качество по сигналам = 0.807197094751\n",
      "качество по людям = 0.605456310685\n"
     ]
    },
    {
     "data": {
      "text/html": [
       "<div>\n",
       "<table border=\"1\" class=\"dataframe\">\n",
       "  <thead>\n",
       "    <tr style=\"text-align: right;\">\n",
       "      <th></th>\n",
       "      <th>a</th>\n",
       "      <th>ans</th>\n",
       "      <th>label</th>\n",
       "      <th>y</th>\n",
       "      <th>q</th>\n",
       "    </tr>\n",
       "  </thead>\n",
       "  <tbody>\n",
       "    <tr>\n",
       "      <th>0</th>\n",
       "      <td>0.466667</td>\n",
       "      <td>0</td>\n",
       "      <td>1403</td>\n",
       "      <td>1</td>\n",
       "      <td>False</td>\n",
       "    </tr>\n",
       "    <tr>\n",
       "      <th>1</th>\n",
       "      <td>0.500000</td>\n",
       "      <td>0</td>\n",
       "      <td>1403</td>\n",
       "      <td>1</td>\n",
       "      <td>False</td>\n",
       "    </tr>\n",
       "    <tr>\n",
       "      <th>2</th>\n",
       "      <td>0.733333</td>\n",
       "      <td>0</td>\n",
       "      <td>1961</td>\n",
       "      <td>1</td>\n",
       "      <td>False</td>\n",
       "    </tr>\n",
       "  </tbody>\n",
       "</table>\n",
       "</div>"
      ],
      "text/plain": [
       "          a  ans  label  y      q\n",
       "0  0.466667    0   1403  1  False\n",
       "1  0.500000    0   1403  1  False\n",
       "2  0.733333    0   1961  1  False"
      ]
     },
     "execution_count": 92,
     "metadata": {},
     "output_type": "execute_result"
    }
   ],
   "source": [
    "a_this = a2\n",
    "threshold = 0.85\n",
    "\n",
    "tmp = pd.DataFrame({'label':people, 'y':y, 'a':a_this, 'ans': 0+(a_this>threshold)})\n",
    "tmp['q'] = tmp.y == tmp.ans\n",
    "print ('качество по сигналам = ' + str(tmp.q.mean()))\n",
    "print ('качество по людям = ' + str(tmp.groupby('label')['q'].mean().mean()))\n",
    "\n",
    "tmp[:3]\n",
    "\n",
    "# было\n",
    "# качество по сигналам = 0.813469792011\n",
    "# качество по людям = 0.590329376155"
   ]
  },
  {
   "cell_type": "code",
   "execution_count": null,
   "metadata": {
    "collapsed": true
   },
   "outputs": [],
   "source": [
    "качество по сигналам = 0.796962693958\n",
    "качество по людям = 0.61103582909\n",
    "\n",
    "\n",
    "качество по сигналам = 0.80059425553\n",
    "качество по людям = 0.591142996655"
   ]
  },
  {
   "cell_type": "code",
   "execution_count": null,
   "metadata": {
    "collapsed": true
   },
   "outputs": [],
   "source": []
  },
  {
   "cell_type": "code",
   "execution_count": null,
   "metadata": {
    "collapsed": true
   },
   "outputs": [],
   "source": []
  },
  {
   "cell_type": "code",
   "execution_count": null,
   "metadata": {
    "collapsed": false
   },
   "outputs": [],
   "source": []
  },
  {
   "cell_type": "code",
   "execution_count": null,
   "metadata": {
    "collapsed": true
   },
   "outputs": [],
   "source": []
  }
 ],
 "metadata": {
  "kernelspec": {
   "display_name": "Python 3",
   "language": "python",
   "name": "python3"
  },
  "language_info": {
   "codemirror_mode": {
    "name": "ipython",
    "version": 3
   },
   "file_extension": ".py",
   "mimetype": "text/x-python",
   "name": "python",
   "nbconvert_exporter": "python",
   "pygments_lexer": "ipython3",
   "version": "3.5.1"
  }
 },
 "nbformat": 4,
 "nbformat_minor": 0
}
